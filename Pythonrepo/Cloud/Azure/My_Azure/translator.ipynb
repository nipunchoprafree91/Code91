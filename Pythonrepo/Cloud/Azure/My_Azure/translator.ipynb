{
 "cells": [
  {
   "cell_type": "code",
   "execution_count": null,
   "metadata": {},
   "outputs": [],
   "source": [
    "print(\"hello world\")"
   ]
  },
  {
   "cell_type": "code",
   "execution_count": 3,
   "metadata": {},
   "outputs": [
    {
     "name": "stdout",
     "output_type": "stream",
     "text": [
      "Collecting azure-ai-translation-text\n",
      "  Downloading azure_ai_translation_text-1.0.1-py3-none-any.whl.metadata (18 kB)\n",
      "Collecting isodate>=0.6.1 (from azure-ai-translation-text)\n",
      "  Downloading isodate-0.7.2-py3-none-any.whl.metadata (11 kB)\n",
      "Collecting azure-core>=1.30.0 (from azure-ai-translation-text)\n",
      "  Downloading azure_core-1.32.0-py3-none-any.whl.metadata (39 kB)\n",
      "Collecting typing-extensions>=4.6.0 (from azure-ai-translation-text)\n",
      "  Downloading typing_extensions-4.13.0-py3-none-any.whl.metadata (3.0 kB)\n",
      "Collecting requests>=2.21.0 (from azure-core>=1.30.0->azure-ai-translation-text)\n",
      "  Using cached requests-2.32.3-py3-none-any.whl.metadata (4.6 kB)\n",
      "Requirement already satisfied: six>=1.11.0 in /Users/nipun/Library/Python/3.13/lib/python/site-packages (from azure-core>=1.30.0->azure-ai-translation-text) (1.17.0)\n",
      "Collecting charset-normalizer<4,>=2 (from requests>=2.21.0->azure-core>=1.30.0->azure-ai-translation-text)\n",
      "  Downloading charset_normalizer-3.4.1-cp313-cp313-macosx_10_13_universal2.whl.metadata (35 kB)\n",
      "Collecting idna<4,>=2.5 (from requests>=2.21.0->azure-core>=1.30.0->azure-ai-translation-text)\n",
      "  Using cached idna-3.10-py3-none-any.whl.metadata (10 kB)\n",
      "Collecting urllib3<3,>=1.21.1 (from requests>=2.21.0->azure-core>=1.30.0->azure-ai-translation-text)\n",
      "  Downloading urllib3-2.3.0-py3-none-any.whl.metadata (6.5 kB)\n",
      "Requirement already satisfied: certifi>=2017.4.17 in /opt/homebrew/lib/python3.13/site-packages (from requests>=2.21.0->azure-core>=1.30.0->azure-ai-translation-text) (2024.8.30)\n",
      "Downloading azure_ai_translation_text-1.0.1-py3-none-any.whl (87 kB)\n",
      "Downloading azure_core-1.32.0-py3-none-any.whl (198 kB)\n",
      "Downloading isodate-0.7.2-py3-none-any.whl (22 kB)\n",
      "Downloading typing_extensions-4.13.0-py3-none-any.whl (45 kB)\n",
      "Using cached requests-2.32.3-py3-none-any.whl (64 kB)\n",
      "Downloading charset_normalizer-3.4.1-cp313-cp313-macosx_10_13_universal2.whl (195 kB)\n",
      "Using cached idna-3.10-py3-none-any.whl (70 kB)\n",
      "Downloading urllib3-2.3.0-py3-none-any.whl (128 kB)\n",
      "Installing collected packages: urllib3, typing-extensions, isodate, idna, charset-normalizer, requests, azure-core, azure-ai-translation-text\n",
      "Successfully installed azure-ai-translation-text-1.0.1 azure-core-1.32.0 charset-normalizer-3.4.1 idna-3.10 isodate-0.7.2 requests-2.32.3 typing-extensions-4.13.0 urllib3-2.3.0\n",
      "Note: you may need to restart the kernel to use updated packages.\n"
     ]
    }
   ],
   "source": [
    "pip install azure-ai-translation-text --break-system-packages"
   ]
  },
  {
   "cell_type": "code",
   "execution_count": null,
   "metadata": {},
   "outputs": [
    {
     "name": "stdout",
     "output_type": "stream",
     "text": [
      "env: MY_TEST_VAR=\"Testing\"\n",
      "\"Testing\"\n"
     ]
    }
   ],
   "source": [
    "from azure.core.credentials import AzureKeyCredential\n",
    "from azure.ai.translation.text import TextTranslationClient\n",
    "\n",
    "apikey = \"AzMEdhOxx0JuRWP4UBz6Fp8wDqdSrIQDkGcZBwLgkkbbSRetOu7uJQQJ99BCAC4f1cMXJ3w3AAAbACOGaIkR\"\n",
    "region = \"westus\"\n",
    "credential = AzureKeyCredential(apikey)\n",
    "text_translator = TextTranslationClient(credential=credential, region=region)\n",
    "\n",
    "%env MY_TEST_VAR \"Testing\"\n",
    "\n",
    "import os\n",
    "api_key = os.environ[\"MY_TEST_VAR\"]\n",
    "\n",
    "print(api_key)\n",
    "print(text_translator)\n"
   ]
  },
  {
   "cell_type": "code",
   "execution_count": null,
   "metadata": {},
   "outputs": [],
   "source": []
  }
 ],
 "metadata": {
  "kernelspec": {
   "display_name": "Python 3",
   "language": "python",
   "name": "python3"
  },
  "language_info": {
   "codemirror_mode": {
    "name": "ipython",
    "version": 3
   },
   "file_extension": ".py",
   "mimetype": "text/x-python",
   "name": "python",
   "nbconvert_exporter": "python",
   "pygments_lexer": "ipython3",
   "version": "3.13.0"
  }
 },
 "nbformat": 4,
 "nbformat_minor": 2
}
